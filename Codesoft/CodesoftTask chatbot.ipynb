{
 "cells": [
  {
   "cell_type": "code",
   "execution_count": null,
   "id": "1773b7f0",
   "metadata": {},
   "outputs": [
    {
     "name": "stdout",
     "output_type": "stream",
     "text": [
      "Hi! I am a chatbot by AI and DS Department\n",
      "Feel free to ask me anything.\n",
      ">hii\n",
      "Hey there\n",
      ">my name is Shiv\n",
      "Hello shiv, how are you today?\n",
      ">I am fine\n",
      "Great to hear that! How can I help you?\n",
      ">What is your age ?\n",
      "I'm a computer program, seriously, you are asking me this?\n",
      ">Who created you ?\n",
      "Tadashi created me using Python's NLTK library\n",
      ">how can I contact support?\n",
      "You can contact support by emailing support@example.com\n",
      ">what's your favorite color?\n",
      "I don't have a favorite color, but I like all the colors equally.\n",
      ">what do you do?\n",
      "I'm here to chat and assist you with any questions you may have.\n",
      ">tell me a joke\n",
      "Why don't scientists trust atoms? Because they make up everything!\n",
      ">what do you do?\n",
      "I'm here to chat and assist you with any questions you may have.\n",
      ">quite\n",
      "It was nice talking to you. See you soon :)\n"
     ]
    }
   ],
   "source": [
    "\n",
    "import nltk\n",
    "from nltk.chat.util import Chat, reflections\n",
    "\n",
    "reflections = {\n",
    "    \"i am\": \"you are\",\n",
    "    \"i was\": \"you were\",\n",
    "    \"i\": \"you\",\n",
    "    \"i'm\": \"you are\",\n",
    "    \"i'll\": \"you will\",\n",
    "    \"my\": \"your\",\n",
    "    \"you\": \"me\",\n",
    "    \"me\": \"you\"\n",
    "}\n",
    "\n",
    "pairs = [\n",
    "    [r\"my name is (.*)\", [\"Hello %1, how are you today?\"]],\n",
    "    [r\"hi|hey|hello\", [\"Hello\", \"Hey there\"]],\n",
    "    [r\"what is your name ?\", [\"I am a bot created by AI and DS Department. You can call me Nemo!\"]],\n",
    "    [r\"how are you ?\", [\"I'm doing well, and how about you?\",]],\n",
    "    [r\"sorry (.*)\", [\"It's alright\", \"It's OK, never mind\"]],\n",
    "    [r\"I am fine\", [\"Great to hear that! How can I help you?\",]],\n",
    "    [r\"i'm (.*) doing good\", [\"Nice to hear that. How can I help you?\"]],\n",
    "    [r\"(.*) age?\", [\"I'm a computer program, seriously, you are asking me this?\",]],\n",
    "    [r\"what (.*) want ?\", [\"Make me an offer I can't refuse\"]],\n",
    "    [r\"(.*) created ?\", [\"Tadashi created me using Python's NLTK library\", \"Top secret ;)\"]],\n",
    "    [r\"(.*) (location|city) ?\", ['Pune', 'Maharashtra']],\n",
    "    [r\"how is the weather in (.*)?\", [\"Weather in %1 is awesome like always\", \"Too hot in %1\", \"Too cold in %1\"]],\n",
    "    [r\"i work in (.*)?\", [\"%1 is an amazing company. I have heard about it. But they are in huge lo\"]],\n",
    "    [r\"(.*)raining in (.*)\", [\"No rain since last week here in %2\", \"It's raining too much here in %2\"]],\n",
    "    [r\"how (.*) health(.*)\", [\"I'm a computer program, so I'm always healthy\"]],\n",
    "    [r\"(.*) (sports|game) ?\", [\"I'm a very big fan of football\"]],\n",
    "    [r\"who (.*) sportsperson ?\", [\"Messi\", \"Ronaldo\"]],\n",
    "    [r\"who (.*) (moviestar|actor)?\", [\"Priyanka Chopara\"]],\n",
    "    [r\"I am looking for online guides and courses to learn data science, can you suggest?\", [\"Crazy_Tech has many great articles with step-by-step explanations along with\"]],\n",
    "    [r\"tell me a joke\", [\"Why don't scientists trust atoms? Because they make up everything!\"]],\n",
    "    [r\"what's your favorite color?\", [\"I don't have a favorite color, but I like all the colors equally.\"]],\n",
    "    [r\"how can I contact support?\", [\"You can contact support by emailing support@example.com\"]],\n",
    "    [r\"what do you do?\", [\"I'm here to chat and assist you with any questions you may have.\"]],\n",
    "    [r\"thank you|thanks\", [\"You're welcome!\", \"No problem, happy to help.\"]],\n",
    "    [r\"quit\", [\"Bye, take care. See you soon :)\", \"It was nice talking to you. See you soon :)\"]],\n",
    "]\n",
    "\n",
    "def chat():\n",
    "    print(\"Hi! I am a chatbot by AI and DS Department\")\n",
    "    print(\"Feel free to ask me anything.\")\n",
    "    chat = Chat(pairs, reflections)\n",
    "    chat.converse()\n",
    "\n",
    "# initiate the conversation\n",
    "if __name__ == \"__main__\":\n",
    "    chat()\n",
    " "
   ]
  },
  {
   "cell_type": "code",
   "execution_count": null,
   "id": "b2fda774",
   "metadata": {},
   "outputs": [],
   "source": []
  },
  {
   "cell_type": "code",
   "execution_count": null,
   "id": "54dc2306",
   "metadata": {},
   "outputs": [],
   "source": []
  }
 ],
 "metadata": {
  "kernelspec": {
   "display_name": "Python 3 (ipykernel)",
   "language": "python",
   "name": "python3"
  },
  "language_info": {
   "codemirror_mode": {
    "name": "ipython",
    "version": 3
   },
   "file_extension": ".py",
   "mimetype": "text/x-python",
   "name": "python",
   "nbconvert_exporter": "python",
   "pygments_lexer": "ipython3",
   "version": "3.10.9"
  }
 },
 "nbformat": 4,
 "nbformat_minor": 5
}
